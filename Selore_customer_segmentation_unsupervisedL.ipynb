{
 "cells": [
  {
   "cell_type": "code",
   "execution_count": 101,
   "id": "80708645-7fc5-4f96-aaad-75f9940a2a0d",
   "metadata": {},
   "outputs": [],
   "source": [
    "### Unsupervised Machine Learning\n",
    "\n",
    "# Clustering is unsupervised, meaning it doesn't require labeled data or pre-defined target outputs.\n",
    "\n",
    "# Common Clustering Algorithms:\n",
    "# K-Means Clustering"
   ]
  },
  {
   "cell_type": "code",
   "execution_count": 102,
   "id": "cb45ff9a-3d4d-428f-838f-fb25f4338296",
   "metadata": {},
   "outputs": [],
   "source": [
    "# Import required libraries\n",
    "# Data Analysis libraries\n",
    "import pandas as pd\n",
    "import numpy as np\n",
    "\n",
    "# Data Visualization libraries\n",
    "import matplotlib.pyplot as plt\n",
    "import seaborn as sns\n",
    "\n",
    "# Machine Learning and Evaluation libraries\n",
    "from sklearn.cluster import KMeans\n",
    "from scipy.cluster.hierarchy import dendrogram, linkage\n",
    "from sklearn.metrics import silhouette_score, homogeneity_score\n",
    "\n",
    "import warnings\n",
    "warnings.filterwarnings(\"ignore\")"
   ]
  },
  {
   "cell_type": "code",
   "execution_count": null,
   "id": "f991d5e3-2c4d-4d12-bcca-23bad1a488f3",
   "metadata": {},
   "outputs": [],
   "source": []
  },
  {
   "cell_type": "code",
   "execution_count": 103,
   "id": "07eeaaea-0676-45f3-9b8a-3bd82427374b",
   "metadata": {},
   "outputs": [],
   "source": [
    "# Load the dataset\n",
    "\n",
    "data = pd.read_csv(r\"C:\\Users\\ubahl\\OneDrive\\Desktop\\WK 14\\Customers.csv\")"
   ]
  },
  {
   "cell_type": "code",
   "execution_count": 104,
   "id": "07fc92d2-c917-4a34-bb67-fd5bf5abcf74",
   "metadata": {},
   "outputs": [
    {
     "data": {
      "text/html": [
       "<div>\n",
       "<style scoped>\n",
       "    .dataframe tbody tr th:only-of-type {\n",
       "        vertical-align: middle;\n",
       "    }\n",
       "\n",
       "    .dataframe tbody tr th {\n",
       "        vertical-align: top;\n",
       "    }\n",
       "\n",
       "    .dataframe thead th {\n",
       "        text-align: right;\n",
       "    }\n",
       "</style>\n",
       "<table border=\"1\" class=\"dataframe\">\n",
       "  <thead>\n",
       "    <tr style=\"text-align: right;\">\n",
       "      <th></th>\n",
       "      <th>CustomerID</th>\n",
       "      <th>Genre</th>\n",
       "      <th>Age</th>\n",
       "      <th>Annual_Income_(k$)</th>\n",
       "      <th>Spending_Score</th>\n",
       "    </tr>\n",
       "  </thead>\n",
       "  <tbody>\n",
       "    <tr>\n",
       "      <th>0</th>\n",
       "      <td>1</td>\n",
       "      <td>Male</td>\n",
       "      <td>19</td>\n",
       "      <td>15</td>\n",
       "      <td>39</td>\n",
       "    </tr>\n",
       "    <tr>\n",
       "      <th>1</th>\n",
       "      <td>2</td>\n",
       "      <td>Male</td>\n",
       "      <td>21</td>\n",
       "      <td>15</td>\n",
       "      <td>81</td>\n",
       "    </tr>\n",
       "    <tr>\n",
       "      <th>2</th>\n",
       "      <td>3</td>\n",
       "      <td>Female</td>\n",
       "      <td>20</td>\n",
       "      <td>16</td>\n",
       "      <td>6</td>\n",
       "    </tr>\n",
       "    <tr>\n",
       "      <th>3</th>\n",
       "      <td>4</td>\n",
       "      <td>Female</td>\n",
       "      <td>23</td>\n",
       "      <td>16</td>\n",
       "      <td>77</td>\n",
       "    </tr>\n",
       "    <tr>\n",
       "      <th>4</th>\n",
       "      <td>5</td>\n",
       "      <td>Female</td>\n",
       "      <td>31</td>\n",
       "      <td>17</td>\n",
       "      <td>40</td>\n",
       "    </tr>\n",
       "  </tbody>\n",
       "</table>\n",
       "</div>"
      ],
      "text/plain": [
       "   CustomerID   Genre  Age  Annual_Income_(k$)  Spending_Score\n",
       "0           1    Male   19                  15              39\n",
       "1           2    Male   21                  15              81\n",
       "2           3  Female   20                  16               6\n",
       "3           4  Female   23                  16              77\n",
       "4           5  Female   31                  17              40"
      ]
     },
     "execution_count": 104,
     "metadata": {},
     "output_type": "execute_result"
    }
   ],
   "source": [
    "data.head()"
   ]
  },
  {
   "cell_type": "code",
   "execution_count": 105,
   "id": "de4e6d56-02be-418e-9e5a-538b96ebe6d4",
   "metadata": {},
   "outputs": [
    {
     "data": {
      "text/html": [
       "<div>\n",
       "<style scoped>\n",
       "    .dataframe tbody tr th:only-of-type {\n",
       "        vertical-align: middle;\n",
       "    }\n",
       "\n",
       "    .dataframe tbody tr th {\n",
       "        vertical-align: top;\n",
       "    }\n",
       "\n",
       "    .dataframe thead th {\n",
       "        text-align: right;\n",
       "    }\n",
       "</style>\n",
       "<table border=\"1\" class=\"dataframe\">\n",
       "  <thead>\n",
       "    <tr style=\"text-align: right;\">\n",
       "      <th></th>\n",
       "      <th>CustomerID</th>\n",
       "      <th>Genre</th>\n",
       "      <th>Age</th>\n",
       "      <th>Annual_Income_(k$)</th>\n",
       "      <th>Spending_Score</th>\n",
       "    </tr>\n",
       "  </thead>\n",
       "  <tbody>\n",
       "    <tr>\n",
       "      <th>195</th>\n",
       "      <td>196</td>\n",
       "      <td>Female</td>\n",
       "      <td>35</td>\n",
       "      <td>120</td>\n",
       "      <td>79</td>\n",
       "    </tr>\n",
       "    <tr>\n",
       "      <th>196</th>\n",
       "      <td>197</td>\n",
       "      <td>Female</td>\n",
       "      <td>45</td>\n",
       "      <td>126</td>\n",
       "      <td>28</td>\n",
       "    </tr>\n",
       "    <tr>\n",
       "      <th>197</th>\n",
       "      <td>198</td>\n",
       "      <td>Male</td>\n",
       "      <td>32</td>\n",
       "      <td>126</td>\n",
       "      <td>74</td>\n",
       "    </tr>\n",
       "    <tr>\n",
       "      <th>198</th>\n",
       "      <td>199</td>\n",
       "      <td>Male</td>\n",
       "      <td>32</td>\n",
       "      <td>137</td>\n",
       "      <td>18</td>\n",
       "    </tr>\n",
       "    <tr>\n",
       "      <th>199</th>\n",
       "      <td>200</td>\n",
       "      <td>Male</td>\n",
       "      <td>30</td>\n",
       "      <td>137</td>\n",
       "      <td>83</td>\n",
       "    </tr>\n",
       "  </tbody>\n",
       "</table>\n",
       "</div>"
      ],
      "text/plain": [
       "     CustomerID   Genre  Age  Annual_Income_(k$)  Spending_Score\n",
       "195         196  Female   35                 120              79\n",
       "196         197  Female   45                 126              28\n",
       "197         198    Male   32                 126              74\n",
       "198         199    Male   32                 137              18\n",
       "199         200    Male   30                 137              83"
      ]
     },
     "execution_count": 105,
     "metadata": {},
     "output_type": "execute_result"
    }
   ],
   "source": [
    "data.tail()"
   ]
  },
  {
   "cell_type": "code",
   "execution_count": 106,
   "id": "74415c8d-6901-4404-a4a8-a1d3cf060f01",
   "metadata": {},
   "outputs": [
    {
     "data": {
      "text/html": [
       "<div>\n",
       "<style scoped>\n",
       "    .dataframe tbody tr th:only-of-type {\n",
       "        vertical-align: middle;\n",
       "    }\n",
       "\n",
       "    .dataframe tbody tr th {\n",
       "        vertical-align: top;\n",
       "    }\n",
       "\n",
       "    .dataframe thead th {\n",
       "        text-align: right;\n",
       "    }\n",
       "</style>\n",
       "<table border=\"1\" class=\"dataframe\">\n",
       "  <thead>\n",
       "    <tr style=\"text-align: right;\">\n",
       "      <th></th>\n",
       "      <th>CustomerID</th>\n",
       "      <th>Age</th>\n",
       "      <th>Annual_Income_(k$)</th>\n",
       "      <th>Spending_Score</th>\n",
       "    </tr>\n",
       "  </thead>\n",
       "  <tbody>\n",
       "    <tr>\n",
       "      <th>count</th>\n",
       "      <td>200.000000</td>\n",
       "      <td>200.000000</td>\n",
       "      <td>200.000000</td>\n",
       "      <td>200.000000</td>\n",
       "    </tr>\n",
       "    <tr>\n",
       "      <th>mean</th>\n",
       "      <td>100.500000</td>\n",
       "      <td>38.850000</td>\n",
       "      <td>60.560000</td>\n",
       "      <td>50.200000</td>\n",
       "    </tr>\n",
       "    <tr>\n",
       "      <th>std</th>\n",
       "      <td>57.879185</td>\n",
       "      <td>13.969007</td>\n",
       "      <td>26.264721</td>\n",
       "      <td>25.823522</td>\n",
       "    </tr>\n",
       "    <tr>\n",
       "      <th>min</th>\n",
       "      <td>1.000000</td>\n",
       "      <td>18.000000</td>\n",
       "      <td>15.000000</td>\n",
       "      <td>1.000000</td>\n",
       "    </tr>\n",
       "    <tr>\n",
       "      <th>25%</th>\n",
       "      <td>50.750000</td>\n",
       "      <td>28.750000</td>\n",
       "      <td>41.500000</td>\n",
       "      <td>34.750000</td>\n",
       "    </tr>\n",
       "    <tr>\n",
       "      <th>50%</th>\n",
       "      <td>100.500000</td>\n",
       "      <td>36.000000</td>\n",
       "      <td>61.500000</td>\n",
       "      <td>50.000000</td>\n",
       "    </tr>\n",
       "    <tr>\n",
       "      <th>75%</th>\n",
       "      <td>150.250000</td>\n",
       "      <td>49.000000</td>\n",
       "      <td>78.000000</td>\n",
       "      <td>73.000000</td>\n",
       "    </tr>\n",
       "    <tr>\n",
       "      <th>max</th>\n",
       "      <td>200.000000</td>\n",
       "      <td>70.000000</td>\n",
       "      <td>137.000000</td>\n",
       "      <td>99.000000</td>\n",
       "    </tr>\n",
       "  </tbody>\n",
       "</table>\n",
       "</div>"
      ],
      "text/plain": [
       "       CustomerID         Age  Annual_Income_(k$)  Spending_Score\n",
       "count  200.000000  200.000000          200.000000      200.000000\n",
       "mean   100.500000   38.850000           60.560000       50.200000\n",
       "std     57.879185   13.969007           26.264721       25.823522\n",
       "min      1.000000   18.000000           15.000000        1.000000\n",
       "25%     50.750000   28.750000           41.500000       34.750000\n",
       "50%    100.500000   36.000000           61.500000       50.000000\n",
       "75%    150.250000   49.000000           78.000000       73.000000\n",
       "max    200.000000   70.000000          137.000000       99.000000"
      ]
     },
     "execution_count": 106,
     "metadata": {},
     "output_type": "execute_result"
    }
   ],
   "source": [
    "data.describe()"
   ]
  },
  {
   "cell_type": "code",
   "execution_count": 107,
   "id": "8812c0da-6cb9-4848-8177-80873e86ab3e",
   "metadata": {},
   "outputs": [
    {
     "data": {
      "text/plain": [
       "CustomerID             int64\n",
       "Genre                 object\n",
       "Age                    int64\n",
       "Annual_Income_(k$)     int64\n",
       "Spending_Score         int64\n",
       "dtype: object"
      ]
     },
     "execution_count": 107,
     "metadata": {},
     "output_type": "execute_result"
    }
   ],
   "source": [
    "data.dtypes"
   ]
  },
  {
   "cell_type": "code",
   "execution_count": 108,
   "id": "50bfe587-27a4-47e4-bc71-2045cbe72e53",
   "metadata": {},
   "outputs": [
    {
     "name": "stdout",
     "output_type": "stream",
     "text": [
      "<class 'pandas.core.frame.DataFrame'>\n",
      "RangeIndex: 200 entries, 0 to 199\n",
      "Data columns (total 5 columns):\n",
      " #   Column              Non-Null Count  Dtype \n",
      "---  ------              --------------  ----- \n",
      " 0   CustomerID          200 non-null    int64 \n",
      " 1   Genre               200 non-null    object\n",
      " 2   Age                 200 non-null    int64 \n",
      " 3   Annual_Income_(k$)  200 non-null    int64 \n",
      " 4   Spending_Score      200 non-null    int64 \n",
      "dtypes: int64(4), object(1)\n",
      "memory usage: 7.9+ KB\n"
     ]
    }
   ],
   "source": [
    "data.info()"
   ]
  },
  {
   "cell_type": "code",
   "execution_count": 109,
   "id": "4bca9146-cee3-48ce-a08b-6a65b706d758",
   "metadata": {},
   "outputs": [
    {
     "data": {
      "text/plain": [
       "(200, 5)"
      ]
     },
     "execution_count": 109,
     "metadata": {},
     "output_type": "execute_result"
    }
   ],
   "source": [
    "data.shape"
   ]
  },
  {
   "cell_type": "code",
   "execution_count": 110,
   "id": "34abaaec-53cf-42b0-9080-178162562641",
   "metadata": {},
   "outputs": [
    {
     "data": {
      "text/html": [
       "<div>\n",
       "<style scoped>\n",
       "    .dataframe tbody tr th:only-of-type {\n",
       "        vertical-align: middle;\n",
       "    }\n",
       "\n",
       "    .dataframe tbody tr th {\n",
       "        vertical-align: top;\n",
       "    }\n",
       "\n",
       "    .dataframe thead th {\n",
       "        text-align: right;\n",
       "    }\n",
       "</style>\n",
       "<table border=\"1\" class=\"dataframe\">\n",
       "  <thead>\n",
       "    <tr style=\"text-align: right;\">\n",
       "      <th></th>\n",
       "      <th>CustomerID</th>\n",
       "      <th>Genre</th>\n",
       "      <th>Age</th>\n",
       "      <th>Annual_Income_(k$)</th>\n",
       "      <th>Spending_Score</th>\n",
       "    </tr>\n",
       "  </thead>\n",
       "  <tbody>\n",
       "    <tr>\n",
       "      <th>0</th>\n",
       "      <td>False</td>\n",
       "      <td>False</td>\n",
       "      <td>False</td>\n",
       "      <td>False</td>\n",
       "      <td>False</td>\n",
       "    </tr>\n",
       "    <tr>\n",
       "      <th>1</th>\n",
       "      <td>False</td>\n",
       "      <td>False</td>\n",
       "      <td>False</td>\n",
       "      <td>False</td>\n",
       "      <td>False</td>\n",
       "    </tr>\n",
       "    <tr>\n",
       "      <th>2</th>\n",
       "      <td>False</td>\n",
       "      <td>False</td>\n",
       "      <td>False</td>\n",
       "      <td>False</td>\n",
       "      <td>False</td>\n",
       "    </tr>\n",
       "    <tr>\n",
       "      <th>3</th>\n",
       "      <td>False</td>\n",
       "      <td>False</td>\n",
       "      <td>False</td>\n",
       "      <td>False</td>\n",
       "      <td>False</td>\n",
       "    </tr>\n",
       "    <tr>\n",
       "      <th>4</th>\n",
       "      <td>False</td>\n",
       "      <td>False</td>\n",
       "      <td>False</td>\n",
       "      <td>False</td>\n",
       "      <td>False</td>\n",
       "    </tr>\n",
       "    <tr>\n",
       "      <th>...</th>\n",
       "      <td>...</td>\n",
       "      <td>...</td>\n",
       "      <td>...</td>\n",
       "      <td>...</td>\n",
       "      <td>...</td>\n",
       "    </tr>\n",
       "    <tr>\n",
       "      <th>195</th>\n",
       "      <td>False</td>\n",
       "      <td>False</td>\n",
       "      <td>False</td>\n",
       "      <td>False</td>\n",
       "      <td>False</td>\n",
       "    </tr>\n",
       "    <tr>\n",
       "      <th>196</th>\n",
       "      <td>False</td>\n",
       "      <td>False</td>\n",
       "      <td>False</td>\n",
       "      <td>False</td>\n",
       "      <td>False</td>\n",
       "    </tr>\n",
       "    <tr>\n",
       "      <th>197</th>\n",
       "      <td>False</td>\n",
       "      <td>False</td>\n",
       "      <td>False</td>\n",
       "      <td>False</td>\n",
       "      <td>False</td>\n",
       "    </tr>\n",
       "    <tr>\n",
       "      <th>198</th>\n",
       "      <td>False</td>\n",
       "      <td>False</td>\n",
       "      <td>False</td>\n",
       "      <td>False</td>\n",
       "      <td>False</td>\n",
       "    </tr>\n",
       "    <tr>\n",
       "      <th>199</th>\n",
       "      <td>False</td>\n",
       "      <td>False</td>\n",
       "      <td>False</td>\n",
       "      <td>False</td>\n",
       "      <td>False</td>\n",
       "    </tr>\n",
       "  </tbody>\n",
       "</table>\n",
       "<p>200 rows × 5 columns</p>\n",
       "</div>"
      ],
      "text/plain": [
       "     CustomerID  Genre    Age  Annual_Income_(k$)  Spending_Score\n",
       "0         False  False  False               False           False\n",
       "1         False  False  False               False           False\n",
       "2         False  False  False               False           False\n",
       "3         False  False  False               False           False\n",
       "4         False  False  False               False           False\n",
       "..          ...    ...    ...                 ...             ...\n",
       "195       False  False  False               False           False\n",
       "196       False  False  False               False           False\n",
       "197       False  False  False               False           False\n",
       "198       False  False  False               False           False\n",
       "199       False  False  False               False           False\n",
       "\n",
       "[200 rows x 5 columns]"
      ]
     },
     "execution_count": 110,
     "metadata": {},
     "output_type": "execute_result"
    }
   ],
   "source": [
    "data.isnull()"
   ]
  },
  {
   "cell_type": "code",
   "execution_count": 111,
   "id": "16a6ba0f-5714-4c26-b44e-d52159ed3382",
   "metadata": {},
   "outputs": [
    {
     "data": {
      "text/plain": [
       "CustomerID            0\n",
       "Genre                 0\n",
       "Age                   0\n",
       "Annual_Income_(k$)    0\n",
       "Spending_Score        0\n",
       "dtype: int64"
      ]
     },
     "execution_count": 111,
     "metadata": {},
     "output_type": "execute_result"
    }
   ],
   "source": [
    "data.isnull().sum()"
   ]
  },
  {
   "cell_type": "code",
   "execution_count": 112,
   "id": "df76564f-f348-4588-aba1-074a04263772",
   "metadata": {},
   "outputs": [
    {
     "data": {
      "text/plain": [
       "<Axes: >"
      ]
     },
     "execution_count": 112,
     "metadata": {},
     "output_type": "execute_result"
    },
    {
     "data": {
      "image/png": "[encoded data removed]",
      "text/plain": [
       "<Figure size 1000x300 with 2 Axes>"
      ]
     },
     "metadata": {},
     "output_type": "display_data"
    }
   ],
   "source": [
    "# To visualize the missing data\n",
    "\n",
    "plt.figure (figsize = (10,3))\n",
    "sns.heatmap(data.isnull(), cbar=True, cmap=\"Blues_r\")"
   ]
  },
  {
   "cell_type": "code",
   "execution_count": null,
   "id": "4af96dd4-fdca-4efb-9a05-91120cf13506",
   "metadata": {},
   "outputs": [],
   "source": []
  },
  {
   "cell_type": "markdown",
   "id": "352e75e5-df73-45eb-98c0-6ac6d035f8b1",
   "metadata": {},
   "source": [
    "### Data Cleaning and Pre-processing"
   ]
  },
  {
   "cell_type": "code",
   "execution_count": 113,
   "id": "f0c76266-172d-4e45-8d6f-f7e1a58e9ae3",
   "metadata": {},
   "outputs": [
    {
     "name": "stdout",
     "output_type": "stream",
     "text": [
      "0\n"
     ]
    }
   ],
   "source": [
    "# cheack for duplicate\n",
    "\n",
    "print(data.duplicated().sum())"
   ]
  },
  {
   "cell_type": "code",
   "execution_count": null,
   "id": "e66e649c-c21d-4835-a4bb-8bd222488f54",
   "metadata": {},
   "outputs": [],
   "source": []
  },
  {
   "cell_type": "markdown",
   "id": "0ff143f1-ab43-41a1-8d43-2f91bb8b2f49",
   "metadata": {},
   "source": [
    "## Exploratory Data Analysis"
   ]
  },
  {
   "cell_type": "code",
   "execution_count": 114,
   "id": "a8213ade-ea4a-48f5-941f-6de749df37e6",
   "metadata": {},
   "outputs": [],
   "source": [
    "# we have Univariate\n",
    "# Bivariate\n",
    "# Multivariate\n",
    "\n",
    "# Here we are starting with univariate analysis"
   ]
  },
  {
   "cell_type": "markdown",
   "id": "783097e1-a1e8-4862-b618-dceeb98cbfb4",
   "metadata": {},
   "source": [
    "### Univariate Analysis"
   ]
  },
  {
   "cell_type": "code",
   "execution_count": 115,
   "id": "82aab054-d621-4103-ac64-c450e6bb50d4",
   "metadata": {},
   "outputs": [
    {
     "data": {
      "image/png": "[encoded data removed]",
      "text/plain": [
       "<Figure size 2000x750 with 4 Axes>"
      ]
     },
     "metadata": {},
     "output_type": "display_data"
    }
   ],
   "source": [
    "fig, axs = plt.subplots(2,2,figsize = (20,7.5))\n",
    "plt1 = sns.countplot(x=data[\"Genre\"], ax = axs[0,0])\n",
    "plt2 = sns.boxplot(data[\"Age\"], ax = axs[0,1])\n",
    "plt3 = sns.boxplot(data[\"Annual_Income_(k$)\"], ax = axs[1,0])\n",
    "plt4 = sns.boxplot(data[\"Spending_Score\"], ax = axs[1,1])\n",
    "\n",
    "plt.tight_layout()"
   ]
  },
  {
   "cell_type": "code",
   "execution_count": null,
   "id": "a4e3009a-b6a0-4f05-8639-19264de21b50",
   "metadata": {},
   "outputs": [],
   "source": []
  },
  {
   "cell_type": "code",
   "execution_count": 116,
   "id": "4bfa26f6-268b-4003-8a95-a667318d5b73",
   "metadata": {},
   "outputs": [],
   "source": [
    "# Narration: from the above layout, we have more female customers than male\n",
    "# there is one outlier in the annual income column\n",
    "# we have more customers above the age of 35\n",
    "# we also have more customers with spnding score of above 40"
   ]
  },
  {
   "cell_type": "code",
   "execution_count": null,
   "id": "7eb35550-406d-44fd-8f72-06718222ce30",
   "metadata": {},
   "outputs": [],
   "source": []
  },
  {
   "cell_type": "code",
   "execution_count": null,
   "id": "d7389ee1-0efd-4bd8-ab41-509293be766e",
   "metadata": {},
   "outputs": [],
   "source": []
  },
  {
   "cell_type": "code",
   "execution_count": null,
   "id": "3af196e2-afa6-45cc-92c9-67c89192e114",
   "metadata": {},
   "outputs": [],
   "source": []
  },
  {
   "cell_type": "markdown",
   "id": "cac2e0b8-8e6a-4de7-9288-93a049bb207e",
   "metadata": {},
   "source": [
    "### Machine Learning model training"
   ]
  },
  {
   "cell_type": "code",
   "execution_count": 117,
   "id": "d11fc742-a0cc-484e-a78a-f51c3bf86b28",
   "metadata": {},
   "outputs": [],
   "source": [
    "## convert categorical columns to nuerical data\n",
    "# Label encoder helps to transform categorical data to numerical\n",
    "\n",
    "from sklearn.preprocessing import LabelEncoder\n",
    "# Label Encoding\n",
    "encoder = LabelEncoder() # method initialization\n",
    "# Looping for columns except survived\n",
    "for c in data.columns[1:]:\n",
    "    if(data[c].dtype==\"object\"):\n",
    "        data[c] = encoder.fit_transform(data[c])\n",
    "    else:\n",
    "        data[c] = data[c]"
   ]
  },
  {
   "cell_type": "code",
   "execution_count": 118,
   "id": "6fa0edf3-513d-4a31-8db7-7ea08127a295",
   "metadata": {},
   "outputs": [
    {
     "data": {
      "text/html": [
       "<div>\n",
       "<style scoped>\n",
       "    .dataframe tbody tr th:only-of-type {\n",
       "        vertical-align: middle;\n",
       "    }\n",
       "\n",
       "    .dataframe tbody tr th {\n",
       "        vertical-align: top;\n",
       "    }\n",
       "\n",
       "    .dataframe thead th {\n",
       "        text-align: right;\n",
       "    }\n",
       "</style>\n",
       "<table border=\"1\" class=\"dataframe\">\n",
       "  <thead>\n",
       "    <tr style=\"text-align: right;\">\n",
       "      <th></th>\n",
       "      <th>CustomerID</th>\n",
       "      <th>Genre</th>\n",
       "      <th>Age</th>\n",
       "      <th>Annual_Income_(k$)</th>\n",
       "      <th>Spending_Score</th>\n",
       "    </tr>\n",
       "  </thead>\n",
       "  <tbody>\n",
       "    <tr>\n",
       "      <th>0</th>\n",
       "      <td>1</td>\n",
       "      <td>1</td>\n",
       "      <td>19</td>\n",
       "      <td>15</td>\n",
       "      <td>39</td>\n",
       "    </tr>\n",
       "    <tr>\n",
       "      <th>1</th>\n",
       "      <td>2</td>\n",
       "      <td>1</td>\n",
       "      <td>21</td>\n",
       "      <td>15</td>\n",
       "      <td>81</td>\n",
       "    </tr>\n",
       "    <tr>\n",
       "      <th>2</th>\n",
       "      <td>3</td>\n",
       "      <td>0</td>\n",
       "      <td>20</td>\n",
       "      <td>16</td>\n",
       "      <td>6</td>\n",
       "    </tr>\n",
       "    <tr>\n",
       "      <th>3</th>\n",
       "      <td>4</td>\n",
       "      <td>0</td>\n",
       "      <td>23</td>\n",
       "      <td>16</td>\n",
       "      <td>77</td>\n",
       "    </tr>\n",
       "    <tr>\n",
       "      <th>4</th>\n",
       "      <td>5</td>\n",
       "      <td>0</td>\n",
       "      <td>31</td>\n",
       "      <td>17</td>\n",
       "      <td>40</td>\n",
       "    </tr>\n",
       "  </tbody>\n",
       "</table>\n",
       "</div>"
      ],
      "text/plain": [
       "   CustomerID  Genre  Age  Annual_Income_(k$)  Spending_Score\n",
       "0           1      1   19                  15              39\n",
       "1           2      1   21                  15              81\n",
       "2           3      0   20                  16               6\n",
       "3           4      0   23                  16              77\n",
       "4           5      0   31                  17              40"
      ]
     },
     "execution_count": 118,
     "metadata": {},
     "output_type": "execute_result"
    }
   ],
   "source": [
    "data.head()"
   ]
  },
  {
   "cell_type": "code",
   "execution_count": null,
   "id": "8139cd7f-6d45-412a-89e0-4fa43244c17c",
   "metadata": {},
   "outputs": [],
   "source": []
  },
  {
   "cell_type": "code",
   "execution_count": 119,
   "id": "45a61f5d-c295-4197-9d58-b190e3407f44",
   "metadata": {},
   "outputs": [],
   "source": [
    "# Remove unwanted columns\n",
    "# here remove customerID <=====> Remove any colum that is unique identifier like phone number, \n",
    "\n",
    "data.drop(\"CustomerID\", axis=1, inplace=True)"
   ]
  },
  {
   "cell_type": "code",
   "execution_count": 120,
   "id": "d862768c-be94-4e93-826e-186196406627",
   "metadata": {},
   "outputs": [
    {
     "data": {
      "text/html": [
       "<div>\n",
       "<style scoped>\n",
       "    .dataframe tbody tr th:only-of-type {\n",
       "        vertical-align: middle;\n",
       "    }\n",
       "\n",
       "    .dataframe tbody tr th {\n",
       "        vertical-align: top;\n",
       "    }\n",
       "\n",
       "    .dataframe thead th {\n",
       "        text-align: right;\n",
       "    }\n",
       "</style>\n",
       "<table border=\"1\" class=\"dataframe\">\n",
       "  <thead>\n",
       "    <tr style=\"text-align: right;\">\n",
       "      <th></th>\n",
       "      <th>Genre</th>\n",
       "      <th>Age</th>\n",
       "      <th>Annual_Income_(k$)</th>\n",
       "      <th>Spending_Score</th>\n",
       "    </tr>\n",
       "  </thead>\n",
       "  <tbody>\n",
       "    <tr>\n",
       "      <th>0</th>\n",
       "      <td>1</td>\n",
       "      <td>19</td>\n",
       "      <td>15</td>\n",
       "      <td>39</td>\n",
       "    </tr>\n",
       "    <tr>\n",
       "      <th>1</th>\n",
       "      <td>1</td>\n",
       "      <td>21</td>\n",
       "      <td>15</td>\n",
       "      <td>81</td>\n",
       "    </tr>\n",
       "    <tr>\n",
       "      <th>2</th>\n",
       "      <td>0</td>\n",
       "      <td>20</td>\n",
       "      <td>16</td>\n",
       "      <td>6</td>\n",
       "    </tr>\n",
       "    <tr>\n",
       "      <th>3</th>\n",
       "      <td>0</td>\n",
       "      <td>23</td>\n",
       "      <td>16</td>\n",
       "      <td>77</td>\n",
       "    </tr>\n",
       "    <tr>\n",
       "      <th>4</th>\n",
       "      <td>0</td>\n",
       "      <td>31</td>\n",
       "      <td>17</td>\n",
       "      <td>40</td>\n",
       "    </tr>\n",
       "  </tbody>\n",
       "</table>\n",
       "</div>"
      ],
      "text/plain": [
       "   Genre  Age  Annual_Income_(k$)  Spending_Score\n",
       "0      1   19                  15              39\n",
       "1      1   21                  15              81\n",
       "2      0   20                  16               6\n",
       "3      0   23                  16              77\n",
       "4      0   31                  17              40"
      ]
     },
     "execution_count": 120,
     "metadata": {},
     "output_type": "execute_result"
    }
   ],
   "source": [
    "data.head()"
   ]
  },
  {
   "cell_type": "code",
   "execution_count": null,
   "id": "49096ff3-a416-4c22-86e7-f05345cf16ba",
   "metadata": {},
   "outputs": [],
   "source": []
  },
  {
   "cell_type": "markdown",
   "id": "c2c3a628-22ea-4635-ad43-20ee46d90b29",
   "metadata": {},
   "source": [
    "# Elbow Method is a technique used to determine the optimal number of clusters in a dataset \n",
    "# for algorithms like K-Means clustering. It helps identify the ideal number of clusters by balancing between \n",
    "# underfitting (too few clusters) and overfitting (too many clusters)."
   ]
  },
  {
   "cell_type": "code",
   "execution_count": null,
   "id": "50c4d866-816a-46f5-88b2-8e14ef7a506f",
   "metadata": {},
   "outputs": [],
   "source": []
  },
  {
   "cell_type": "code",
   "execution_count": 125,
   "id": "9ee223b9-43b4-4936-b68a-4b1923a38c1b",
   "metadata": {},
   "outputs": [
    {
     "data": {
      "image/png": "[encoded data removed]",
      "text/plain": [
       "<Figure size 640x480 with 1 Axes>"
      ]
     },
     "metadata": {},
     "output_type": "display_data"
    }
   ],
   "source": [
    "# Determine the optimal number of clusters\n",
    "from sklearn.cluster import KMeans\n",
    "wcss = []\n",
    "for i in range(1,11):\n",
    "    Kmeans = KMeans(n_clusters=i, init=\"k-means++\", random_state=42)\n",
    "    Kmeans.fit(data)\n",
    "    wcss.append(Kmeans.inertia_)\n",
    "plt.plot(range(1,11), wcss, color=\"red\", marker=\"o\")\n",
    "plt.title(\"Elbow Method\")\n",
    "plt.xlabel(\"Number of Clusters\")\n",
    "plt.ylabel(\"WCSS\")\n",
    "\n",
    "plt.show()"
   ]
  },
  {
   "cell_type": "markdown",
   "id": "a46297a5-31d8-4224-915a-8735c117bafc",
   "metadata": {},
   "source": [
    "# the plot above shows that the optimal number of clusters is 5, as the wcss starts to decrease at a slower rate beyound that point."
   ]
  },
  {
   "cell_type": "code",
   "execution_count": null,
   "id": "aa1c5944-d2ef-413b-b62c-ef999939ca91",
   "metadata": {},
   "outputs": [],
   "source": []
  },
  {
   "cell_type": "code",
   "execution_count": 126,
   "id": "216746f6-e37f-4f1f-92f5-18ea59dd5bbc",
   "metadata": {},
   "outputs": [],
   "source": [
    "# fit k-means clustering model\n",
    "\n",
    "kmeans = KMeans(n_clusters=5, init=\"k-means++\", random_state=42)\n",
    "kmeans.fit(data)\n",
    "# Add cluster labels to data\n",
    "data[\"Cluster\"] = kmeans.labels_"
   ]
  },
  {
   "cell_type": "code",
   "execution_count": 127,
   "id": "acc1d483-d192-4242-a651-cad56271c8b5",
   "metadata": {},
   "outputs": [
    {
     "data": {
      "image/png": "[encoded data removed]",
      "text/plain": [
       "<Figure size 640x480 with 1 Axes>"
      ]
     },
     "metadata": {},
     "output_type": "display_data"
    },
    {
     "ename": "NameError",
     "evalue": "name 'kmean' is not defined",
     "output_type": "error",
     "traceback": [
      "\u001b[1;31m---------------------------------------------------------------------------\u001b[0m",
      "\u001b[1;31mNameError\u001b[0m                                 Traceback (most recent call last)",
      "Cell \u001b[1;32mIn[127], line 10\u001b[0m\n\u001b[0;32m      8\u001b[0m \u001b[38;5;66;03m# Calculate silhouette score\u001b[39;00m\n\u001b[0;32m      9\u001b[0m \u001b[38;5;28;01mfrom\u001b[39;00m \u001b[38;5;21;01msklearn\u001b[39;00m\u001b[38;5;21;01m.\u001b[39;00m\u001b[38;5;21;01mmetrics\u001b[39;00m \u001b[38;5;28;01mimport\u001b[39;00m silhouette_score \n\u001b[1;32m---> 10\u001b[0m silhouette_score(data, kmean\u001b[38;5;241m.\u001b[39mlabels_)\n",
      "\u001b[1;31mNameError\u001b[0m: name 'kmean' is not defined"
     ]
    }
   ],
   "source": [
    "# visualize cluster result\n",
    "plt.scatter(data[\"Annual_Income_(k$)\"], data[\"Spending_Score\"], c = data[\"Cluster\"], label = \"Centroids\")\n",
    "plt.xlabel(\"Annual_Income_(k$)\")\n",
    "plt.ylabel(\"Spending_Score\")\n",
    "\n",
    "plt.show()\n",
    "\n",
    "# Calculate silhouette score\n",
    "from sklearn.metrics import silhouette_score \n",
    "silhouette_score(data, kmean.labels_)"
   ]
  },
  {
   "cell_type": "code",
   "execution_count": null,
   "id": "74c59c4f-21d1-4236-b6c9-088d864cf8e7",
   "metadata": {},
   "outputs": [],
   "source": []
  },
  {
   "cell_type": "code",
   "execution_count": 128,
   "id": "c3fce56c-30d7-4af5-808b-6cfb16c7a086",
   "metadata": {},
   "outputs": [],
   "source": [
    "# In conclusion, we derived an insight from the data that shows we have different types of customers\n",
    "# 1. Low income earners that has low spending score \n",
    "# 2. low income earners that has high spending score\n",
    "# 3. average income earners with average spending score\n",
    "# 4. High income earners with low spending score\n",
    "# lastly high income earners with very high spending score."
   ]
  },
  {
   "cell_type": "code",
   "execution_count": null,
   "id": "e7624cb1-8a65-4b7a-afcb-eacb472020eb",
   "metadata": {},
   "outputs": [],
   "source": []
  }
 ],
 "metadata": {
  "kernelspec": {
   "display_name": "Python 3 (ipykernel)",
   "language": "python",
   "name": "python3"
  },
  "language_info": {
   "codemirror_mode": {
    "name": "ipython",
    "version": 3
   },
   "file_extension": ".py",
   "mimetype": "text/x-python",
   "name": "python",
   "nbconvert_exporter": "python",
   "pygments_lexer": "ipython3",
   "version": "3.11.7"
  }
 },
 "nbformat": 4,
 "nbformat_minor": 5
}
